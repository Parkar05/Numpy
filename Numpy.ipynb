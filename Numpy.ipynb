{
 "cells": [
  {
   "cell_type": "code",
   "execution_count": 16,
   "id": "bd4570fb",
   "metadata": {},
   "outputs": [
    {
     "data": {
      "text/plain": [
       "array([0., 0., 0., 0., 1., 0., 0., 0., 0., 0.])"
      ]
     },
     "execution_count": 16,
     "metadata": {},
     "output_type": "execute_result"
    }
   ],
   "source": [
    "#1. Create a null vector of size 10 but the fifth value which is 1.\n",
    "\n",
    "import numpy as np\n",
    "\n",
    "n = np.zeros(10)\n",
    "n[4]=1\n",
    "n\n"
   ]
  },
  {
   "cell_type": "code",
   "execution_count": 18,
   "id": "ea6826b5",
   "metadata": {},
   "outputs": [
    {
     "data": {
      "text/plain": [
       "array([10, 11, 12, 13, 14, 15, 16, 17, 18, 19, 20, 21, 22, 23, 24, 25, 26,\n",
       "       27, 28, 29, 30, 31, 32, 33, 34, 35, 36, 37, 38, 39, 40, 41, 42, 43,\n",
       "       44, 45, 46, 47, 48, 49])"
      ]
     },
     "execution_count": 18,
     "metadata": {},
     "output_type": "execute_result"
    }
   ],
   "source": [
    "#2. Create a vector with values ranging from 10 to 49.\n",
    "\n",
    "m =  np.arange(10,50)\n",
    "m"
   ]
  },
  {
   "cell_type": "code",
   "execution_count": 41,
   "id": "4f470169",
   "metadata": {},
   "outputs": [
    {
     "data": {
      "text/plain": [
       "array([[0, 1, 2],\n",
       "       [3, 4, 5],\n",
       "       [6, 7, 8]])"
      ]
     },
     "execution_count": 41,
     "metadata": {},
     "output_type": "execute_result"
    }
   ],
   "source": [
    "#3. Create a 3x3 matrix with values ranging from 0 to 8\n",
    "\n",
    "z = np.arange(0,9)\n",
    "m = z.reshape(3,3)\n",
    "m"
   ]
  },
  {
   "cell_type": "code",
   "execution_count": 54,
   "id": "8f82df6b",
   "metadata": {},
   "outputs": [
    {
     "name": "stdout",
     "output_type": "stream",
     "text": [
      "Indices of non-zero elements are  (array([0, 1, 4], dtype=int64),)\n"
     ]
    }
   ],
   "source": [
    "#4. Find indices of non-zero elements from [1,2,0,0,4,0]\n",
    "\n",
    "l = np.array([1,2,0,0,4,0])\n",
    "z = np.where(l>0)\n",
    "print(\"Indices of non-zero elements are \",z)"
   ]
  },
  {
   "cell_type": "code",
   "execution_count": 59,
   "id": "6da94b96",
   "metadata": {},
   "outputs": [
    {
     "name": "stdout",
     "output_type": "stream",
     "text": [
      "Indices of non-zero elements are : \n",
      "0 1 4 "
     ]
    }
   ],
   "source": [
    "l = np.array([1,2,0,0,4,0])\n",
    "print(\"Indices of non-zero elements are : \")\n",
    "for i in range(len(l)):\n",
    "    if l[i] !=0:\n",
    "        print(i,end = \" \")"
   ]
  },
  {
   "cell_type": "code",
   "execution_count": 68,
   "id": "da01f4ef",
   "metadata": {},
   "outputs": [
    {
     "name": "stdout",
     "output_type": "stream",
     "text": [
      "[[18 30 32 41 29 13 22 33 19 36]\n",
      " [13  2 39 44 47 16 20 10 17 40]\n",
      " [31  7 26 48 48 47 36  8 48 33]\n",
      " [48 24  4 31  6 33 46 27  8 36]\n",
      " [47 14 16 28  6  0 37 44 47 30]\n",
      " [45  5 12 29 25 30  0  7 38  4]\n",
      " [17  6 22 29 16 21 30 20 36 17]\n",
      " [23 11  6 47 25 37 27 49 25 31]\n",
      " [40 30 27 41 34  5 13 11 31  0]\n",
      " [11 19  7 32 46 15 44 26 17 46]]\n",
      "The maximum value is : 49\n",
      "The maximum value is : 0\n"
     ]
    }
   ],
   "source": [
    "#5. Create a 10x10 array with random values and find the minimum and maximum values.\n",
    "\n",
    "o = np.random.randint(0,50,(10,10))\n",
    "print(o)\n",
    "p = np.max(o)  #o.max()\n",
    "print(\"The maximum value is :\",p)\n",
    "q = np.min(o)   #o.min()\n",
    "print(\"The maximum value is :\",q)"
   ]
  },
  {
   "cell_type": "code",
   "execution_count": 75,
   "id": "0a30217e",
   "metadata": {},
   "outputs": [
    {
     "data": {
      "text/plain": [
       "0.4888370548296305"
      ]
     },
     "execution_count": 75,
     "metadata": {},
     "output_type": "execute_result"
    }
   ],
   "source": [
    "# 6. Create a random vector of size 30 and find the mean value.\n",
    "\n",
    "t = np.random.rand(30)\n",
    "y = t.mean()\n",
    "y"
   ]
  },
  {
   "cell_type": "code",
   "execution_count": 74,
   "id": "774db49a",
   "metadata": {},
   "outputs": [
    {
     "data": {
      "text/plain": [
       "44.666666666666664"
      ]
     },
     "execution_count": 74,
     "metadata": {},
     "output_type": "execute_result"
    }
   ],
   "source": [
    "y = np.random.randint(2,90,30)\n",
    "z=y.mean()\n",
    "z"
   ]
  }
 ],
 "metadata": {
  "kernelspec": {
   "display_name": "Python 3 (ipykernel)",
   "language": "python",
   "name": "python3"
  },
  "language_info": {
   "codemirror_mode": {
    "name": "ipython",
    "version": 3
   },
   "file_extension": ".py",
   "mimetype": "text/x-python",
   "name": "python",
   "nbconvert_exporter": "python",
   "pygments_lexer": "ipython3",
   "version": "3.9.13"
  }
 },
 "nbformat": 4,
 "nbformat_minor": 5
}
